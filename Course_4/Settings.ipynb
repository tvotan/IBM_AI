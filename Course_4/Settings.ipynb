{
 "cells": [
  {
   "cell_type": "code",
   "execution_count": 3,
   "metadata": {},
   "outputs": [
    {
     "name": "stdout",
     "output_type": "stream",
     "text": [
      "Requirement already satisfied: torch in /Users/Tin/.virtualenvs/test/lib/python3.7/site-packages (1.3.1)\n",
      "Requirement already satisfied: numpy in /Users/Tin/.virtualenvs/test/lib/python3.7/site-packages (from torch) (1.17.4)\n"
     ]
    }
   ],
   "source": [
    "!pip3 install torch"
   ]
  },
  {
   "cell_type": "code",
   "execution_count": 2,
   "metadata": {},
   "outputs": [
    {
     "name": "stdout",
     "output_type": "stream",
     "text": [
      "Collecting pillow\n",
      "  Using cached https://files.pythonhosted.org/packages/85/28/2c72ba965b52884a0bd71e419761fc162763dc2e5d9bec2f3b1949f7272a/Pillow-6.2.1-cp37-cp37m-macosx_10_6_intel.whl\n",
      "Installing collected packages: pillow\n",
      "Successfully installed pillow-6.2.1\n"
     ]
    }
   ],
   "source": [
    "!pip3 install pillow"
   ]
  },
  {
   "cell_type": "code",
   "execution_count": 3,
   "metadata": {},
   "outputs": [
    {
     "name": "stdout",
     "output_type": "stream",
     "text": [
      "Collecting torchvision\n",
      "\u001b[?25l  Downloading https://files.pythonhosted.org/packages/fa/71/0e76ba50c8c9aeb8349d827d02278c1b5eb4da9cdc17ca26b5bd47ec034a/torchvision-0.4.2-cp37-cp37m-macosx_10_7_x86_64.whl (641kB)\n",
      "\u001b[K    100% |████████████████████████████████| 645kB 10.2MB/s a 0:00:011\n",
      "\u001b[?25hRequirement already satisfied: pillow>=4.1.1 in /Users/Tin/.virtualenvs/test/lib/python3.7/site-packages (from torchvision) (6.2.1)\n",
      "Requirement already satisfied: torch==1.3.1 in /Users/Tin/.virtualenvs/test/lib/python3.7/site-packages (from torchvision) (1.3.1)\n",
      "Requirement already satisfied: six in /Users/Tin/.virtualenvs/test/lib/python3.7/site-packages (from torchvision) (1.13.0)\n",
      "Requirement already satisfied: numpy in /Users/Tin/.virtualenvs/test/lib/python3.7/site-packages (from torchvision) (1.17.4)\n",
      "Installing collected packages: torchvision\n",
      "Successfully installed torchvision-0.4.2\n"
     ]
    }
   ],
   "source": [
    "!pip3 install torchvision"
   ]
  },
  {
   "cell_type": "code",
   "execution_count": 7,
   "metadata": {},
   "outputs": [
    {
     "data": {
      "text/plain": [
       "'1.3.1'"
      ]
     },
     "execution_count": 7,
     "metadata": {},
     "output_type": "execute_result"
    }
   ],
   "source": [
    "import torch\n",
    "\n",
    "torch.__version__"
   ]
  },
  {
   "cell_type": "code",
   "execution_count": 8,
   "metadata": {},
   "outputs": [
    {
     "data": {
      "text/plain": [
       "'1.17.4'"
      ]
     },
     "execution_count": 8,
     "metadata": {},
     "output_type": "execute_result"
    }
   ],
   "source": [
    "import numpy\n",
    "\n",
    "numpy.__version__"
   ]
  }
 ],
 "metadata": {
  "kernelspec": {
   "display_name": "Python 3",
   "language": "python",
   "name": "python3"
  },
  "language_info": {
   "codemirror_mode": {
    "name": "ipython",
    "version": 3
   },
   "file_extension": ".py",
   "mimetype": "text/x-python",
   "name": "python",
   "nbconvert_exporter": "python",
   "pygments_lexer": "ipython3",
   "version": "3.7.4"
  }
 },
 "nbformat": 4,
 "nbformat_minor": 2
}
